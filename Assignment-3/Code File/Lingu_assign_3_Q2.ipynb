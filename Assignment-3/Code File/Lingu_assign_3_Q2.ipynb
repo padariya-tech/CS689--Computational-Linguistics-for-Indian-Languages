{
  "nbformat": 4,
  "nbformat_minor": 0,
  "metadata": {
    "colab": {
      "provenance": []
    },
    "kernelspec": {
      "name": "python3",
      "display_name": "Python 3"
    },
    "language_info": {
      "name": "python"
    }
  },
  "cells": [
    {
      "cell_type": "markdown",
      "source": [
        "Download Dependency"
      ],
      "metadata": {
        "id": "IBGSIg4hQJz_"
      }
    },
    {
      "cell_type": "code",
      "source": [
        "!pip install rouge nltk"
      ],
      "metadata": {
        "colab": {
          "base_uri": "https://localhost:8080/"
        },
        "id": "G-EPDZnlmVba",
        "outputId": "beab341e-7ace-4725-e164-e2fda042ca45"
      },
      "execution_count": 2,
      "outputs": [
        {
          "output_type": "stream",
          "name": "stdout",
          "text": [
            "Collecting rouge\n",
            "  Downloading rouge-1.0.1-py3-none-any.whl (13 kB)\n",
            "Requirement already satisfied: nltk in /usr/local/lib/python3.10/dist-packages (3.8.1)\n",
            "Requirement already satisfied: six in /usr/local/lib/python3.10/dist-packages (from rouge) (1.16.0)\n",
            "Requirement already satisfied: click in /usr/local/lib/python3.10/dist-packages (from nltk) (8.1.7)\n",
            "Requirement already satisfied: joblib in /usr/local/lib/python3.10/dist-packages (from nltk) (1.3.2)\n",
            "Requirement already satisfied: regex>=2021.8.3 in /usr/local/lib/python3.10/dist-packages (from nltk) (2023.12.25)\n",
            "Requirement already satisfied: tqdm in /usr/local/lib/python3.10/dist-packages (from nltk) (4.66.2)\n",
            "Installing collected packages: rouge\n",
            "Successfully installed rouge-1.0.1\n"
          ]
        }
      ]
    },
    {
      "cell_type": "markdown",
      "source": [
        "# For Model NLLB-200 with 600M"
      ],
      "metadata": {
        "id": "X7Vdqj3aqFFD"
      }
    },
    {
      "cell_type": "code",
      "source": [
        "from rouge import Rouge\n",
        "import nltk\n",
        "from nltk.translate.bleu_score import corpus_bleu\n",
        "\n",
        "def load_sentences(file_path):\n",
        "    with open(file_path, 'r', encoding='utf-8') as f:\n",
        "        sentences = [line.strip() for line in f if line.strip()]\n",
        "    return sentences\n",
        "\n",
        "\n",
        "# File paths for reference and translated sentences\n",
        "reference_file = '/content/drive/MyDrive/gu_1000_ground_truth_NLLB.txt'\n",
        "translated_file = '/content/drive/MyDrive/eng_guj_tran_NLLB.txt'\n",
        "\n",
        "# Load sentences from files\n",
        "reference_sentences = load_sentences(reference_file)\n",
        "# print(len(reference_sentences))\n",
        "translated_sentences = load_sentences(translated_file)\n",
        "# print(len(translated_sentences))\n",
        "\n",
        "# Initialize ROUGE\n",
        "rouge = Rouge()\n",
        "\n",
        "# Calculate ROUGE scores\n",
        "scores = rouge.get_scores(translated_sentences,reference_sentences, avg=True)\n",
        "print(\"ROUGE Scores for Eng to Guj: \\n\", scores)\n",
        "\n",
        "# Calculate BLEU score\n",
        "bleu_score = corpus_bleu([[ref] for ref in reference_sentences], translated_sentences)\n",
        "print(\"BLEU Score for Eng to Guj:\", bleu_score)"
      ],
      "metadata": {
        "colab": {
          "base_uri": "https://localhost:8080/"
        },
        "id": "odKT9IefgFfz",
        "outputId": "00493f97-c2ec-4f42-de3c-d2777381ddad"
      },
      "execution_count": 3,
      "outputs": [
        {
          "output_type": "stream",
          "name": "stdout",
          "text": [
            "ROUGE Scores for Eng to Guj: \n",
            " {'rouge-1': {'r': 0.4663866891960623, 'p': 0.4864430181912762, 'f': 0.47276675087197584}, 'rouge-2': {'r': 0.22069447651735896, 'p': 0.2289316853070113, 'f': 0.22314731753483774}, 'rouge-l': {'r': 0.4397478219329741, 'p': 0.45863751779581136, 'f': 0.4457763527018681}}\n",
            "BLEU Score for Eng to Guj: 0.6052381578242295\n"
          ]
        }
      ]
    },
    {
      "cell_type": "code",
      "source": [
        "from rouge import Rouge\n",
        "import nltk\n",
        "from nltk.translate.bleu_score import corpus_bleu\n",
        "\n",
        "def load_sentences(file_path):\n",
        "    with open(file_path, 'r', encoding='utf-8') as f:\n",
        "        sentences = [line.strip() for line in f if line.strip()]\n",
        "    return sentences\n",
        "\n",
        "\n",
        "# File paths for reference and candidate sentences\n",
        "reference_file = '/content/drive/MyDrive/en_1000_ground_truth_NLLB.txt'\n",
        "translated_file = '/content/drive/MyDrive/guj_eng_tran_NLLB.txt'\n",
        "\n",
        "# Load sentences from files\n",
        "reference_sentences = load_sentences(reference_file)\n",
        "# print(len(reference_sentences))\n",
        "translated_sentences = load_sentences(translated_file)\n",
        "# print(len(translated_sentences))\n",
        "# Initialize ROUGE\n",
        "rouge = Rouge()\n",
        "\n",
        "# Calculate ROUGE scores\n",
        "scores = rouge.get_scores(translated_sentences,reference_sentences, avg=True)\n",
        "print(\"ROUGE Scores for Guj to Eng:\\n\", scores)\n",
        "\n",
        "# Calculate BLEU score\n",
        "bleu_score = corpus_bleu([[ref] for ref in reference_sentences], translated_sentences)\n",
        "print(\"BLEU Score for Guj to Eng:\", bleu_score)"
      ],
      "metadata": {
        "colab": {
          "base_uri": "https://localhost:8080/"
        },
        "id": "goXKDONyqbge",
        "outputId": "8c0acd26-d3b1-43ca-a5df-6185ac959f96"
      },
      "execution_count": 4,
      "outputs": [
        {
          "output_type": "stream",
          "name": "stdout",
          "text": [
            "ROUGE Scores for Guj to Eng:\n",
            " {'rouge-1': {'r': 0.5790767652149437, 'p': 0.5810206907144333, 'f': 0.5756565853433987}, 'rouge-2': {'r': 0.34473715092083507, 'p': 0.3418520055330393, 'f': 0.340384288329314}, 'rouge-l': {'r': 0.5417523311242628, 'p': 0.5430008416295155, 'f': 0.5383507855440474}}\n",
            "BLEU Score for Guj to Eng: 0.6796950200289097\n"
          ]
        }
      ]
    },
    {
      "cell_type": "code",
      "source": [
        "from rouge import Rouge\n",
        "import nltk\n",
        "from nltk.translate.bleu_score import corpus_bleu\n",
        "\n",
        "def load_sentences(file_path):\n",
        "    with open(file_path, 'r', encoding='utf-8') as f:\n",
        "        sentences = [line.strip() for line in f if line.strip()]\n",
        "    return sentences\n",
        "\n",
        "\n",
        "# File paths for reference and candidate sentences\n",
        "reference_file = '/content/drive/MyDrive/hi_1000_ground_truth_NLLB.txt'\n",
        "translated_file = '/content/drive/MyDrive/guj_hin_tran_NLLB.txt'\n",
        "\n",
        "# Load sentences from files\n",
        "reference_sentences = load_sentences(reference_file)\n",
        "# print(len(reference_sentences))\n",
        "translated_sentences = load_sentences(translated_file)\n",
        "# print(len(translated_sentences))\n",
        "# Initialize ROUGE\n",
        "rouge = Rouge()\n",
        "\n",
        "# Calculate ROUGE scores\n",
        "scores = rouge.get_scores(translated_sentences,reference_sentences, avg=True)\n",
        "print(\"ROUGE Scores for Guj to hin:\\n\", scores)\n",
        "\n",
        "# Calculate BLEU score\n",
        "bleu_score = corpus_bleu([[ref] for ref in reference_sentences], translated_sentences)\n",
        "print(\"BLEU Score for Guj to hin:\", bleu_score)"
      ],
      "metadata": {
        "colab": {
          "base_uri": "https://localhost:8080/"
        },
        "id": "PIAydmHBirjy",
        "outputId": "d0211c03-80c4-46b6-b206-911f848cf45a"
      },
      "execution_count": 5,
      "outputs": [
        {
          "output_type": "stream",
          "name": "stdout",
          "text": [
            "ROUGE Scores for Guj to hin:\n",
            " {'rouge-1': {'r': 0.6022829650045449, 'p': 0.6145409827137562, 'f': 0.604733082420485}, 'rouge-2': {'r': 0.3736736534074725, 'p': 0.3787645312468791, 'f': 0.3738440517256867}, 'rouge-l': {'r': 0.5710452273929923, 'p': 0.582709678303337, 'f': 0.5734471564609482}}\n",
            "BLEU Score for Guj to hin: 0.6750432627680769\n"
          ]
        }
      ]
    },
    {
      "cell_type": "code",
      "source": [
        "from rouge import Rouge\n",
        "import nltk\n",
        "from nltk.translate.bleu_score import corpus_bleu\n",
        "\n",
        "def load_sentences(file_path):\n",
        "    with open(file_path, 'r', encoding='utf-8') as f:\n",
        "        sentences = [line.strip() for line in f if line.strip()]\n",
        "    return sentences\n",
        "\n",
        "\n",
        "# File paths for reference and candidate sentences\n",
        "reference_file = '/content/drive/MyDrive/gu_1000_ground_truth_NLLB.txt'\n",
        "translated_file = '/content/drive/MyDrive/hin_guj_tran_NLLB.txt'\n",
        "\n",
        "# Load sentences from files\n",
        "reference_sentences = load_sentences(reference_file)\n",
        "# print(len(reference_sentences))\n",
        "translated_sentences = load_sentences(translated_file)\n",
        "# print(len(translated_sentences))\n",
        "# Initialize ROUGE\n",
        "rouge = Rouge()\n",
        "\n",
        "# Calculate ROUGE scores\n",
        "scores = rouge.get_scores(translated_sentences,reference_sentences, avg=True)\n",
        "print(\"ROUGE Scores for Hin to Guj:\\n\", scores)\n",
        "\n",
        "# Calculate BLEU score\n",
        "bleu_score = corpus_bleu([[ref] for ref in reference_sentences], translated_sentences)\n",
        "print(\"BLEU Score for Hin to Guj:\", bleu_score)"
      ],
      "metadata": {
        "colab": {
          "base_uri": "https://localhost:8080/"
        },
        "id": "AUI_N7FNq69A",
        "outputId": "f1608204-2709-466d-907f-eb0995d8344d"
      },
      "execution_count": 6,
      "outputs": [
        {
          "output_type": "stream",
          "name": "stdout",
          "text": [
            "ROUGE Scores for Hin to Guj:\n",
            " {'rouge-1': {'r': 0.5239446469082374, 'p': 0.5363331818560723, 'f': 0.5266758131811144}, 'rouge-2': {'r': 0.28216759403947084, 'p': 0.2877223231424846, 'f': 0.2830930920270693}, 'rouge-l': {'r': 0.5046457634402716, 'p': 0.5161479738330255, 'f': 0.5071154512061654}}\n",
            "BLEU Score for Hin to Guj: 0.6488950996576356\n"
          ]
        }
      ]
    },
    {
      "cell_type": "markdown",
      "source": [
        "# For Model ChatGPT"
      ],
      "metadata": {
        "id": "YGQp80rYsRTk"
      }
    },
    {
      "cell_type": "code",
      "source": [
        "from rouge import Rouge\n",
        "import nltk\n",
        "from nltk.translate.bleu_score import corpus_bleu\n",
        "\n",
        "def load_sentences2(file_path, num_lines=50):\n",
        "    with open(file_path, 'r', encoding='utf-8') as f:\n",
        "        sentences = [line.strip() for line in f if line.strip()]\n",
        "    return sentences[:num_lines]\n",
        "\n",
        "\n",
        "\n",
        "def load_sentences(file_path):\n",
        "    with open(file_path, 'r', encoding='utf-8') as f:\n",
        "        sentences = [line.strip() for line in f if line.strip()]\n",
        "    return sentences\n",
        "\n",
        "\n",
        "# File paths for reference and candidate sentences\n",
        "reference_file = '/content/drive/MyDrive/gu_1000_ground_truth_NLLB.txt'\n",
        "translated_file = '/content/drive/MyDrive/en_gu_chatgpt.txt'\n",
        "\n",
        "# Load sentences from files\n",
        "reference_sentences = load_sentences2(reference_file,num_lines=50)\n",
        "# print(len(reference_sentences))\n",
        "translated_sentences = load_sentences(translated_file)\n",
        "# print(len(translated_sentences))\n",
        "# Initialize ROUGE\n",
        "rouge = Rouge()\n",
        "\n",
        "# Calculate ROUGE scores\n",
        "scores = rouge.get_scores(translated_sentences,reference_sentences, avg=True)\n",
        "print(\"ROUGE Scores for Eng to Guj:\\n\", scores)\n",
        "\n",
        "# Calculate BLEU score\n",
        "bleu_score = corpus_bleu([[ref] for ref in reference_sentences], translated_sentences)\n",
        "print(\"BLEU Score for Eng to Guj:\", bleu_score)"
      ],
      "metadata": {
        "colab": {
          "base_uri": "https://localhost:8080/"
        },
        "id": "Yr9DZcyMsW8Y",
        "outputId": "9d5294f2-7a9f-45ee-b5f3-4593951d521e"
      },
      "execution_count": 7,
      "outputs": [
        {
          "output_type": "stream",
          "name": "stdout",
          "text": [
            "ROUGE Scores for Eng to Guj:\n",
            " {'rouge-1': {'r': 0.2922265351607457, 'p': 0.3038200097004444, 'f': 0.29456704886140095}, 'rouge-2': {'r': 0.1034016917857273, 'p': 0.10533104554544183, 'f': 0.1030758633737791}, 'rouge-l': {'r': 0.2824675164017269, 'p': 0.2931478219847785, 'f': 0.28441917918721554}}\n",
            "BLEU Score for Eng to Guj: 0.4616789925264956\n"
          ]
        }
      ]
    },
    {
      "cell_type": "code",
      "source": [
        "from rouge import Rouge\n",
        "import nltk\n",
        "from nltk.translate.bleu_score import corpus_bleu\n",
        "\n",
        "def load_sentences2(file_path, num_lines=50):\n",
        "    with open(file_path, 'r', encoding='utf-8') as f:\n",
        "        sentences = [line.strip() for line in f if line.strip()]\n",
        "    return sentences[:num_lines]\n",
        "\n",
        "\n",
        "\n",
        "def load_sentences(file_path):\n",
        "    with open(file_path, 'r', encoding='utf-8') as f:\n",
        "        sentences = [line.strip() for line in f if line.strip()]\n",
        "    return sentences\n",
        "\n",
        "\n",
        "# File paths for reference and candidate sentences\n",
        "reference_file = '/content/drive/MyDrive/en_1000_ground_truth_NLLB.txt'\n",
        "translated_file = '/content/drive/MyDrive/gu_en_chatgpt.txt'\n",
        "\n",
        "# Load sentences from files\n",
        "reference_sentences = load_sentences2(reference_file,num_lines=50)\n",
        "# print(len(reference_sentences))\n",
        "translated_sentences = load_sentences(translated_file)\n",
        "# print(len(translated_sentences))\n",
        "# Initialize ROUGE\n",
        "rouge = Rouge()\n",
        "\n",
        "# Calculate ROUGE scores\n",
        "scores = rouge.get_scores(translated_sentences,reference_sentences, avg=True)\n",
        "print(\"ROUGE Scores for Guj to Eng:\\n\", scores)\n",
        "\n",
        "# Calculate BLEU score\n",
        "bleu_score = corpus_bleu([[ref] for ref in reference_sentences], translated_sentences)\n",
        "print(\"BLEU Score for Guj to Eng:\", bleu_score)"
      ],
      "metadata": {
        "colab": {
          "base_uri": "https://localhost:8080/"
        },
        "id": "RwH5wqlbs5sn",
        "outputId": "4d527f59-f7b1-4539-be1e-ff35df937e6d"
      },
      "execution_count": 8,
      "outputs": [
        {
          "output_type": "stream",
          "name": "stdout",
          "text": [
            "ROUGE Scores for Guj to Eng:\n",
            " {'rouge-1': {'r': 0.7042485875911977, 'p': 0.7193122128503404, 'f': 0.7087582296003586}, 'rouge-2': {'r': 0.5295706954223443, 'p': 0.5415658873290452, 'f': 0.5333176057948465}, 'rouge-l': {'r': 0.6727178370977671, 'p': 0.6884543993830908, 'f': 0.6777505056297477}}\n",
            "BLEU Score for Guj to Eng: 0.7581922557103571\n"
          ]
        }
      ]
    },
    {
      "cell_type": "code",
      "source": [
        "from rouge import Rouge\n",
        "import nltk\n",
        "from nltk.translate.bleu_score import corpus_bleu\n",
        "\n",
        "def load_sentences2(file_path, num_lines=50):\n",
        "    with open(file_path, 'r', encoding='utf-8') as f:\n",
        "        sentences = [line.strip() for line in f if line.strip()]\n",
        "    return sentences[:num_lines]\n",
        "\n",
        "\n",
        "\n",
        "def load_sentences(file_path):\n",
        "    with open(file_path, 'r', encoding='utf-8') as f:\n",
        "        sentences = [line.strip() for line in f if line.strip()]\n",
        "    return sentences\n",
        "\n",
        "\n",
        "# File paths for reference and candidate sentences\n",
        "reference_file = '/content/drive/MyDrive/hi_1000_ground_truth_NLLB.txt'\n",
        "translated_file = '/content/drive/MyDrive/gu_hi_chatgpt.txt'\n",
        "\n",
        "# Load sentences from files\n",
        "reference_sentences = load_sentences2(reference_file,num_lines=50)\n",
        "# print(len(reference_sentences))\n",
        "translated_sentences = load_sentences(translated_file)\n",
        "# print(len(translated_sentences))\n",
        "# Initialize ROUGE\n",
        "rouge = Rouge()\n",
        "\n",
        "# Calculate ROUGE scores\n",
        "scores = rouge.get_scores(translated_sentences,reference_sentences, avg=True)\n",
        "print(\"ROUGE Scores for Guj to Hin:\\n\", scores)\n",
        "\n",
        "# Calculate BLEU score\n",
        "bleu_score = corpus_bleu([[ref] for ref in reference_sentences], translated_sentences)\n",
        "print(\"BLEU Score for Guj to Hin:\", bleu_score)"
      ],
      "metadata": {
        "colab": {
          "base_uri": "https://localhost:8080/"
        },
        "id": "jpx9FJb_tRTR",
        "outputId": "cb71c012-1032-469c-945f-1b4f3886da48"
      },
      "execution_count": 9,
      "outputs": [
        {
          "output_type": "stream",
          "name": "stdout",
          "text": [
            "ROUGE Scores for Guj to Hin:\n",
            " {'rouge-1': {'r': 0.37970249404205525, 'p': 0.38470846411070864, 'f': 0.3800543068446187}, 'rouge-2': {'r': 0.1899629223938687, 'p': 0.19063161984214613, 'f': 0.18961692677692502}, 'rouge-l': {'r': 0.366118836097272, 'p': 0.3700641658650946, 'f': 0.36609909550876224}}\n",
            "BLEU Score for Guj to Hin: 0.5374104597838193\n"
          ]
        }
      ]
    },
    {
      "cell_type": "code",
      "source": [
        "from rouge import Rouge\n",
        "import nltk\n",
        "from nltk.translate.bleu_score import corpus_bleu\n",
        "\n",
        "def load_sentences2(file_path, num_lines=50):\n",
        "    with open(file_path, 'r', encoding='utf-8') as f:\n",
        "        sentences = [line.strip() for line in f if line.strip()]\n",
        "    return sentences[:num_lines]\n",
        "\n",
        "\n",
        "\n",
        "def load_sentences(file_path):\n",
        "    with open(file_path, 'r', encoding='utf-8') as f:\n",
        "        sentences = [line.strip() for line in f if line.strip()]\n",
        "    return sentences\n",
        "\n",
        "\n",
        "# File paths for reference and candidate sentences\n",
        "reference_file = '/content/drive/MyDrive/gu_1000_ground_truth_NLLB.txt'\n",
        "translated_file = '/content/drive/MyDrive/hi_gu_chatgpt.txt'\n",
        "\n",
        "# Load sentences from files\n",
        "reference_sentences = load_sentences2(reference_file,num_lines=50)\n",
        "# print(len(reference_sentences))\n",
        "translated_sentences = load_sentences(translated_file)\n",
        "# print(len(translated_sentences))\n",
        "# Initialize ROUGE\n",
        "rouge = Rouge()\n",
        "\n",
        "# Calculate ROUGE scores\n",
        "scores = rouge.get_scores(translated_sentences,reference_sentences, avg=True)\n",
        "print(\"ROUGE Scores for Hin to Guj:\\n\", scores)\n",
        "\n",
        "# Calculate BLEU score\n",
        "bleu_score = corpus_bleu([[ref] for ref in reference_sentences], translated_sentences)\n",
        "print(\"BLEU Score for Hin to Guj:\", bleu_score)"
      ],
      "metadata": {
        "colab": {
          "base_uri": "https://localhost:8080/"
        },
        "id": "uQ-IILYHtSHh",
        "outputId": "7bbafc9f-195a-416b-c299-d1e058cc77f7"
      },
      "execution_count": 10,
      "outputs": [
        {
          "output_type": "stream",
          "name": "stdout",
          "text": [
            "ROUGE Scores for Hin to Guj:\n",
            " {'rouge-1': {'r': 0.361957571668098, 'p': 0.36441343705452867, 'f': 0.35996864849331517}, 'rouge-2': {'r': 0.12084038601652004, 'p': 0.1206219221095382, 'f': 0.11960380175064014}, 'rouge-l': {'r': 0.35365598436651063, 'p': 0.3561215818509087, 'f': 0.35175348145461877}}\n",
            "BLEU Score for Hin to Guj: 0.5481194493247344\n"
          ]
        }
      ]
    },
    {
      "cell_type": "markdown",
      "source": [
        "# For Model indictrans2"
      ],
      "metadata": {
        "id": "D_twH57w18TD"
      }
    },
    {
      "cell_type": "code",
      "source": [
        "from rouge import Rouge\n",
        "import nltk\n",
        "from nltk.translate.bleu_score import corpus_bleu\n",
        "\n",
        "def load_sentences(file_path):\n",
        "    with open(file_path, 'r', encoding='utf-8') as f:\n",
        "        sentences = [line.strip() for line in f if line.strip()]\n",
        "    return sentences\n",
        "\n",
        "\n",
        "# File paths for reference and candidate sentences\n",
        "reference_file = '/content/drive/MyDrive/gu_1000_ground_truth_NLLB.txt'\n",
        "translated_file = '/content/drive/MyDrive/eng_guj_1000_indictran.txt'\n",
        "\n",
        "# Load sentences from files\n",
        "reference_sentences = load_sentences(reference_file)\n",
        "# print(len(reference_sentences))\n",
        "translated_sentences = load_sentences(translated_file)\n",
        "# print(len(translated_sentences))\n",
        "# Initialize ROUGE\n",
        "rouge = Rouge()\n",
        "\n",
        "# Calculate ROUGE scores\n",
        "scores = rouge.get_scores(translated_sentences,reference_sentences, avg=True)\n",
        "print(\"ROUGE Scores for Eng to Guj:\\n\", scores)\n",
        "\n",
        "# Calculate BLEU score\n",
        "bleu_score = corpus_bleu([[ref] for ref in reference_sentences], translated_sentences)\n",
        "print(\"BLEU Score for Eng to Guj:\", bleu_score)"
      ],
      "metadata": {
        "colab": {
          "base_uri": "https://localhost:8080/"
        },
        "id": "xySMV--J2FgQ",
        "outputId": "545ecda0-2049-47f0-e6bd-018ef08c543f"
      },
      "execution_count": 11,
      "outputs": [
        {
          "output_type": "stream",
          "name": "stdout",
          "text": [
            "ROUGE Scores for Eng to Guj:\n",
            " {'rouge-1': {'r': 0.5069173980886221, 'p': 0.5133573182879372, 'f': 0.5068014607134136}, 'rouge-2': {'r': 0.2619592646209465, 'p': 0.2639913886786423, 'f': 0.261111469095498}, 'rouge-l': {'r': 0.48177131283710783, 'p': 0.4877887352464869, 'f': 0.48162564240980865}}\n",
            "BLEU Score for Eng to Guj: 0.6394954222449645\n"
          ]
        }
      ]
    },
    {
      "cell_type": "code",
      "source": [
        "from rouge import Rouge\n",
        "import nltk\n",
        "from nltk.translate.bleu_score import corpus_bleu\n",
        "\n",
        "def load_sentences(file_path):\n",
        "    with open(file_path, 'r', encoding='utf-8') as f:\n",
        "        sentences = [line.strip() for line in f if line.strip()]\n",
        "    return sentences\n",
        "\n",
        "\n",
        "# File paths for reference and candidate sentences\n",
        "reference_file = '/content/drive/MyDrive/en_1000_ground_truth_NLLB.txt'\n",
        "translated_file = '/content/drive/MyDrive/guj_eng_1000_indictran.txt'\n",
        "\n",
        "# Load sentences from files\n",
        "reference_sentences = load_sentences(reference_file)\n",
        "# print(len(reference_sentences))\n",
        "translated_sentences = load_sentences(translated_file)\n",
        "# print(len(translated_sentences))\n",
        "# Initialize ROUGE\n",
        "rouge = Rouge()\n",
        "\n",
        "# Calculate ROUGE scores\n",
        "scores = rouge.get_scores(translated_sentences,reference_sentences, avg=True)\n",
        "print(\"ROUGE Scores for Guj to Eng:\\n\", scores)\n",
        "\n",
        "# Calculate BLEU score\n",
        "bleu_score = corpus_bleu([[ref] for ref in reference_sentences], translated_sentences)\n",
        "print(\"BLEU Score for Guj to Eng:\", bleu_score)"
      ],
      "metadata": {
        "colab": {
          "base_uri": "https://localhost:8080/"
        },
        "id": "b0x94lZZ2sH_",
        "outputId": "16b76e26-69e0-4b03-e8b6-2c4175ae21cf"
      },
      "execution_count": 12,
      "outputs": [
        {
          "output_type": "stream",
          "name": "stdout",
          "text": [
            "ROUGE Scores for Guj to Eng:\n",
            " {'rouge-1': {'r': 0.6274719298389441, 'p': 0.6250526884194895, 'f': 0.6224434024671458}, 'rouge-2': {'r': 0.41122015224057823, 'p': 0.4080194856341716, 'f': 0.40674369520728587}, 'rouge-l': {'r': 0.593140806486392, 'p': 0.5906193749288726, 'f': 0.588360114737105}}\n",
            "BLEU Score for Guj to Eng: 0.7222614008097901\n"
          ]
        }
      ]
    },
    {
      "cell_type": "code",
      "source": [
        "from rouge import Rouge\n",
        "import nltk\n",
        "from nltk.translate.bleu_score import corpus_bleu\n",
        "\n",
        "def load_sentences(file_path):\n",
        "    with open(file_path, 'r', encoding='utf-8') as f:\n",
        "        sentences = [line.strip() for line in f if line.strip()]\n",
        "    return sentences\n",
        "\n",
        "\n",
        "# File paths for reference and candidate sentences\n",
        "reference_file = '/content/drive/MyDrive/hi_1000_ground_truth_NLLB.txt'\n",
        "translated_file = '/content/drive/MyDrive/guj_hin_1000_indictran.txt'\n",
        "\n",
        "# Load sentences from files\n",
        "reference_sentences = load_sentences(reference_file)\n",
        "# print(len(reference_sentences))\n",
        "translated_sentences = load_sentences(translated_file)\n",
        "# print(len(translated_sentences))\n",
        "# Initialize ROUGE\n",
        "rouge = Rouge()\n",
        "\n",
        "# Calculate ROUGE scores\n",
        "scores = rouge.get_scores(translated_sentences,reference_sentences, avg=True)\n",
        "print(\"ROUGE Scores for Guj to hin:\\n\", scores)\n",
        "\n",
        "# Calculate BLEU score\n",
        "bleu_score = corpus_bleu([[ref] for ref in reference_sentences], translated_sentences)\n",
        "print(\"BLEU Score for Guj to hin:\", bleu_score)"
      ],
      "metadata": {
        "colab": {
          "base_uri": "https://localhost:8080/"
        },
        "id": "pvyOXHys2z8a",
        "outputId": "bb5e2d33-54a8-4e57-ee31-a2e5dbe24356"
      },
      "execution_count": 13,
      "outputs": [
        {
          "output_type": "stream",
          "name": "stdout",
          "text": [
            "ROUGE Scores for Guj to hin:\n",
            " {'rouge-1': {'r': 0.6063631021431306, 'p': 0.6068744708774957, 'f': 0.60275697313943}, 'rouge-2': {'r': 0.3749353733566816, 'p': 0.37276937132577964, 'f': 0.3713418187514448}, 'rouge-l': {'r': 0.5730389243986487, 'p': 0.5737148495472564, 'f': 0.5697963328952721}}\n",
            "BLEU Score for Guj to hin: 0.6784314992556627\n"
          ]
        }
      ]
    },
    {
      "cell_type": "code",
      "source": [
        "from rouge import Rouge\n",
        "import nltk\n",
        "from nltk.translate.bleu_score import corpus_bleu\n",
        "\n",
        "def load_sentences(file_path):\n",
        "    with open(file_path, 'r', encoding='utf-8') as f:\n",
        "        sentences = [line.strip() for line in f if line.strip()]\n",
        "    return sentences\n",
        "\n",
        "\n",
        "# File paths for reference and candidate sentences\n",
        "reference_file = '/content/drive/MyDrive/gu_1000_ground_truth_NLLB.txt'\n",
        "translated_file = '/content/drive/MyDrive/hin_guj_1000_indictran.txt'\n",
        "\n",
        "# Load sentences from files\n",
        "reference_sentences = load_sentences(reference_file)\n",
        "# print(len(reference_sentences))\n",
        "translated_sentences = load_sentences(translated_file)\n",
        "# print(len(translated_sentences))\n",
        "# Initialize ROUGE\n",
        "rouge = Rouge()\n",
        "\n",
        "# Calculate ROUGE scores\n",
        "scores = rouge.get_scores(translated_sentences,reference_sentences, avg=True)\n",
        "print(\"ROUGE Scores for Hin to Guj:\\n\", scores)\n",
        "\n",
        "# Calculate BLEU score\n",
        "bleu_score = corpus_bleu([[ref] for ref in reference_sentences], translated_sentences)\n",
        "print(\"BLEU Score for Hin to Guj:\", bleu_score)"
      ],
      "metadata": {
        "colab": {
          "base_uri": "https://localhost:8080/"
        },
        "id": "8pOE3Ajw3T5z",
        "outputId": "6594dcff-9535-4f91-af37-af004db88358"
      },
      "execution_count": 14,
      "outputs": [
        {
          "output_type": "stream",
          "name": "stdout",
          "text": [
            "ROUGE Scores for Hin to Guj:\n",
            " {'rouge-1': {'r': 0.5134301732088403, 'p': 0.52144852029277, 'f': 0.5140286464424538}, 'rouge-2': {'r': 0.2670932422585775, 'p': 0.2696824526538225, 'f': 0.2665957510245623}, 'rouge-l': {'r': 0.4904776714310555, 'p': 0.4978330023320459, 'f': 0.49094646955396376}}\n",
            "BLEU Score for Hin to Guj: 0.6421165290422133\n"
          ]
        }
      ]
    }
  ]
}